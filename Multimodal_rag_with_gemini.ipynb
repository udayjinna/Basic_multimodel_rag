{
  "cells": [
    {
      "cell_type": "markdown",
      "metadata": {
        "id": "view-in-github",
        "colab_type": "text"
      },
      "source": [
        "<a href=\"https://colab.research.google.com/github/udayjinna/Basic_multimodel_rag/blob/main/Multimodal_rag_with_gemini.ipynb\" target=\"_parent\"><img src=\"https://colab.research.google.com/assets/colab-badge.svg\" alt=\"Open In Colab\"/></a>"
      ]
    },
    {
      "cell_type": "markdown",
      "id": "adf04456",
      "metadata": {
        "id": "adf04456"
      },
      "source": [
        "### Multimodal RAG Pipeline\n",
        "\n"
      ]
    },
    {
      "cell_type": "code",
      "source": [
        "!pip install PyMuPDF\n",
        "!pip install langchain_community\n",
        "!pip install transformers\n",
        "!pip install scikit-learn\n",
        "!pip install faiss-cpu\n",
        "\n",
        "\n"
      ],
      "metadata": {
        "id": "3yBedF-B-iIt"
      },
      "id": "3yBedF-B-iIt",
      "execution_count": null,
      "outputs": []
    },
    {
      "cell_type": "code",
      "source": [
        "#!pip uninstall -y google-generativeai google-ai-generativelanguage langchain-google-genai\n",
        "!pip install google-generativeai langchain-google-genai"
      ],
      "metadata": {
        "id": "PNsRVNze_eOT"
      },
      "id": "PNsRVNze_eOT",
      "execution_count": null,
      "outputs": []
    },
    {
      "cell_type": "code",
      "execution_count": null,
      "id": "37109082",
      "metadata": {
        "id": "37109082"
      },
      "outputs": [],
      "source": [
        "#!pip install PyMuPDF\n",
        "#!pip install langchain_community\n",
        "\n",
        "\n",
        "#!pip uninstall -y google-generativeai google-ai-generativelanguage langchain-google-genai\n",
        "#!pip install google-generativeai langchain-google-genai\n",
        "\n",
        "\n",
        "\n",
        "\n",
        "import fitz  # PyMuPDF\n",
        "from langchain_core.documents import Document\n",
        "from transformers import CLIPProcessor, CLIPModel\n",
        "from PIL import Image\n",
        "import torch\n",
        "import numpy as np\n",
        "from langchain.prompts import PromptTemplate\n",
        "from langchain.schema.messages import HumanMessage\n",
        "from sklearn.metrics.pairwise import cosine_similarity\n",
        "import os\n",
        "import base64\n",
        "import io\n",
        "from langchain.text_splitter import RecursiveCharacterTextSplitter\n",
        "from langchain_community.vectorstores import FAISS"
      ]
    },
    {
      "cell_type": "code",
      "execution_count": null,
      "id": "747e8579",
      "metadata": {
        "id": "747e8579"
      },
      "outputs": [],
      "source": [
        "###Clip Model\n",
        "\n",
        "\n",
        "from google.colab import userdata\n",
        "\n",
        "## set up the environment\n",
        "os.environ[\"GOOGLE_API_KEY\"]=userdata.get(\"GOOGLE_API_KEY\")\n",
        "\n",
        "### initialize the Clip Model for unified embeddings\n",
        "clip_model=CLIPModel.from_pretrained(\"openai/clip-vit-base-patch32\")\n",
        "clip_processor=CLIPProcessor.from_pretrained(\"openai/clip-vit-base-patch32\")\n",
        "clip_model.eval()\n"
      ]
    },
    {
      "cell_type": "code",
      "source": [],
      "metadata": {
        "id": "-ZRepYBEK0M5"
      },
      "id": "-ZRepYBEK0M5",
      "execution_count": null,
      "outputs": []
    },
    {
      "cell_type": "code",
      "execution_count": null,
      "id": "255d8983",
      "metadata": {
        "id": "255d8983"
      },
      "outputs": [],
      "source": [
        "### Embedding functions\n",
        "def embed_image(image_data):\n",
        "    \"\"\"Embed image using CLIP\"\"\"\n",
        "    if isinstance(image_data, str):  # If path\n",
        "        image = Image.open(image_data).convert(\"RGB\")\n",
        "    else:  # If PIL Image\n",
        "        image = image_data\n",
        "\n",
        "    inputs=clip_processor(images=image,return_tensors=\"pt\")\n",
        "    with torch.no_grad():\n",
        "        features = clip_model.get_image_features(**inputs)\n",
        "        # Normalize embeddings to unit vector\n",
        "        features = features / features.norm(dim=-1, keepdim=True)\n",
        "        return features.squeeze().numpy()\n",
        "\n",
        "def embed_text(text):\n",
        "    \"\"\"Embed text using CLIP.\"\"\"\n",
        "    inputs = clip_processor(\n",
        "        text=text,\n",
        "        return_tensors=\"pt\",\n",
        "        padding=True,\n",
        "        truncation=True,\n",
        "        max_length=77  # CLIP's max token length\n",
        "    )\n",
        "    with torch.no_grad():\n",
        "        features = clip_model.get_text_features(**inputs)\n",
        "        # Normalize embeddings\n",
        "        features = features / features.norm(dim=-1, keepdim=True)\n",
        "        return features.squeeze().numpy()"
      ]
    },
    {
      "cell_type": "code",
      "execution_count": null,
      "id": "7c48e193",
      "metadata": {
        "id": "7c48e193"
      },
      "outputs": [],
      "source": [
        "## Process PDF\n",
        "pdf_path=\"/content/Rag_pdf.pdf\"\n",
        "doc=fitz.open(pdf_path)\n",
        "# Storage for all documents and embeddings\n",
        "all_docs = []\n",
        "all_embeddings = []\n",
        "image_data_store = {}  # Store actual image data for LLM\n",
        "\n",
        "# Text splitter\n",
        "splitter = RecursiveCharacterTextSplitter(chunk_size=500, chunk_overlap=100)\n",
        "\n",
        "\n"
      ]
    },
    {
      "cell_type": "code",
      "execution_count": null,
      "id": "528cf566",
      "metadata": {
        "colab": {
          "base_uri": "https://localhost:8080/"
        },
        "id": "528cf566",
        "outputId": "14718a43-6760-4a0d-9a17-cf6b49dba80f"
      },
      "outputs": [
        {
          "output_type": "execute_result",
          "data": {
            "text/plain": [
              "Document('/content/Rag_pdf.pdf')"
            ]
          },
          "metadata": {},
          "execution_count": 8
        }
      ],
      "source": [
        "doc"
      ]
    },
    {
      "cell_type": "code",
      "execution_count": null,
      "id": "bafd533f",
      "metadata": {
        "id": "bafd533f"
      },
      "outputs": [],
      "source": [
        "for i,page in enumerate(doc):\n",
        "    ## process text\n",
        "    text=page.get_text()\n",
        "    if text.strip():\n",
        "        ##create temporary document for splitting\n",
        "        temp_doc = Document(page_content=text, metadata={\"page\": i, \"type\": \"text\"})\n",
        "        text_chunks = splitter.split_documents([temp_doc])\n",
        "\n",
        "        #Embed each chunk using CLIP\n",
        "        for chunk in text_chunks:\n",
        "            embedding = embed_text(chunk.page_content)\n",
        "            all_embeddings.append(embedding)\n",
        "            all_docs.append(chunk)\n",
        "\n",
        "\n",
        "\n",
        "    ## process images\n",
        "    ##Three Important Actions:\n",
        "\n",
        "    ##Convert PDF image to PIL format\n",
        "    ##Store as base64 for gemini (which needs base64 images)\n",
        "    ##Create CLIP embedding for retrieval\n",
        "\n",
        "    for img_index, img in enumerate(page.get_images(full=True)):\n",
        "        try:\n",
        "            xref = img[0]\n",
        "            base_image = doc.extract_image(xref)\n",
        "            image_bytes = base_image[\"image\"]\n",
        "\n",
        "            # Convert to PIL Image\n",
        "            pil_image = Image.open(io.BytesIO(image_bytes)).convert(\"RGB\")\n",
        "\n",
        "            # Create unique identifier\n",
        "            image_id = f\"page_{i}_img_{img_index}\"\n",
        "\n",
        "            # Store image as base64\n",
        "            buffered = io.BytesIO()\n",
        "            pil_image.save(buffered, format=\"PNG\")\n",
        "            img_base64 = base64.b64encode(buffered.getvalue()).decode()\n",
        "            image_data_store[image_id] = img_base64\n",
        "\n",
        "            # Embed image using CLIP\n",
        "            embedding = embed_image(pil_image)\n",
        "            all_embeddings.append(embedding)\n",
        "\n",
        "            # Create document for image\n",
        "            image_doc = Document(\n",
        "                page_content=f\"[Image: {image_id}]\",\n",
        "                metadata={\"page\": i, \"type\": \"image\", \"image_id\": image_id}\n",
        "            )\n",
        "            all_docs.append(image_doc)\n",
        "\n",
        "        except Exception as e:\n",
        "            print(f\"Error processing image {img_index} on page {i}: {e}\")\n",
        "            continue\n",
        "\n",
        "doc.close()\n"
      ]
    },
    {
      "cell_type": "code",
      "execution_count": null,
      "id": "2cc2958a",
      "metadata": {
        "id": "2cc2958a"
      },
      "outputs": [],
      "source": [
        "all_docs"
      ]
    },
    {
      "cell_type": "code",
      "execution_count": null,
      "id": "24c017b9",
      "metadata": {
        "id": "24c017b9"
      },
      "outputs": [],
      "source": [
        "# Create unified FAISS vector store with CLIP embeddings\n",
        "embeddings_array = np.array(all_embeddings)\n",
        "embeddings_array"
      ]
    },
    {
      "cell_type": "code",
      "execution_count": null,
      "id": "47bd688d",
      "metadata": {
        "id": "47bd688d"
      },
      "outputs": [],
      "source": [
        "(all_docs,embeddings_array)"
      ]
    },
    {
      "cell_type": "code",
      "execution_count": null,
      "id": "de148a43",
      "metadata": {
        "colab": {
          "base_uri": "https://localhost:8080/"
        },
        "id": "de148a43",
        "outputId": "ffc4a767-d0df-4337-d9d0-3b766ed13f96"
      },
      "outputs": [
        {
          "output_type": "stream",
          "name": "stderr",
          "text": [
            "WARNING:langchain_community.vectorstores.faiss:`embedding_function` is expected to be an Embeddings object, support for passing in a function will soon be removed.\n"
          ]
        },
        {
          "output_type": "execute_result",
          "data": {
            "text/plain": [
              "<langchain_community.vectorstores.faiss.FAISS at 0x7c39b4573950>"
            ]
          },
          "metadata": {},
          "execution_count": 13
        }
      ],
      "source": [
        "\n",
        "\n",
        "# Create custom FAISS index since we have precomputed embeddings\n",
        "vector_store = FAISS.from_embeddings(\n",
        "    text_embeddings=[(doc.page_content, emb) for doc, emb in zip(all_docs, embeddings_array)],\n",
        "    embedding=None,  # We're using precomputed embeddings\n",
        "    metadatas=[doc.metadata for doc in all_docs]\n",
        ")\n",
        "vector_store"
      ]
    },
    {
      "cell_type": "code",
      "source": [
        "import google.generativeai as genai\n",
        "\n",
        "for m in genai.list_models():\n",
        "  if 'generateContent' in m.supported_generation_methods:\n",
        "    print(f\"{m.name}\")"
      ],
      "metadata": {
        "id": "pCkj4j54RWr9"
      },
      "id": "pCkj4j54RWr9",
      "execution_count": null,
      "outputs": []
    },
    {
      "cell_type": "code",
      "execution_count": null,
      "id": "aead918a",
      "metadata": {
        "id": "aead918a"
      },
      "outputs": [],
      "source": [
        "from google.colab import userdata\n",
        "from langchain_google_genai import ChatGoogleGenerativeAI\n",
        "\n",
        "\n",
        "llm = ChatGoogleGenerativeAI(\n",
        "    model=\"gemini-2.5-flash\",\n",
        "    google_api_key=userdata.get('GOOGLE_API_KEY'),\n",
        "    temperature=0\n",
        ")\n",
        "llm"
      ]
    },
    {
      "cell_type": "code",
      "execution_count": null,
      "id": "366ea313",
      "metadata": {
        "id": "366ea313"
      },
      "outputs": [],
      "source": [
        "def retrieve_multimodal(query, k=5):\n",
        "    \"\"\"Unified retrieval using CLIP embeddings for both text and images.\"\"\"\n",
        "    # Embed query using CLIP\n",
        "    query_embedding = embed_text(query)\n",
        "\n",
        "    # Search in unified vector store\n",
        "    results = vector_store.similarity_search_by_vector(\n",
        "        embedding=query_embedding,\n",
        "        k=k\n",
        "    )\n",
        "\n",
        "    return results"
      ]
    },
    {
      "cell_type": "code",
      "execution_count": null,
      "id": "8b73a041",
      "metadata": {
        "id": "8b73a041"
      },
      "outputs": [],
      "source": []
    },
    {
      "cell_type": "code",
      "execution_count": null,
      "id": "97a27ac2",
      "metadata": {
        "id": "97a27ac2"
      },
      "outputs": [],
      "source": [
        "def multimodal_pdf_rag_pipeline(query):\n",
        "    \"\"\"Main pipeline for multimodal RAG.\"\"\"\n",
        "    # Retrieve relevant documents\n",
        "    context_docs = retrieve_multimodal(query, k=5)\n",
        "\n",
        "    # Create multimodal message\n",
        "    message = create_multimodal_message(query, context_docs)\n",
        "\n",
        "    # Get response from gemini\n",
        "    response = llm.invoke([message])\n",
        "\n",
        "    # Print retrieved context info\n",
        "    print(f\"\\nRetrieved {len(context_docs)} documents:\")\n",
        "    for doc in context_docs:\n",
        "        doc_type = doc.metadata.get(\"type\", \"unknown\")\n",
        "        page = doc.metadata.get(\"page\", \"?\")\n",
        "        if doc_type == \"text\":\n",
        "            preview = doc.page_content[:100] + \"...\" if len(doc.page_content) > 100 else doc.page_content\n",
        "            print(f\"  - Text from page {page}: {preview}\")\n",
        "        else:\n",
        "            print(f\"  - Image from page {page}\")\n",
        "    print(\"\\n\")\n",
        "\n",
        "    return response.content"
      ]
    },
    {
      "cell_type": "code",
      "execution_count": null,
      "id": "c352f248",
      "metadata": {
        "id": "c352f248"
      },
      "outputs": [],
      "source": [
        "if __name__ == \"__main__\":\n",
        "    # Example queries\n",
        "    queries = [\n",
        "        \"summarize the document/documents in breif\"\n",
        "    ]\n",
        "\n",
        "    for query in queries:\n",
        "        print(f\"\\nQuery: {query}\")\n",
        "        print(\"-\" * 150)\n",
        "        answer = multimodal_pdf_rag_pipeline(query)\n",
        "        print(f\"Answer: {answer}\")\n",
        "        print(\"=\" * 150)"
      ]
    }
  ],
  "metadata": {
    "kernelspec": {
      "display_name": "Python 3",
      "name": "python3"
    },
    "language_info": {
      "codemirror_mode": {
        "name": "ipython",
        "version": 3
      },
      "file_extension": ".py",
      "mimetype": "text/x-python",
      "name": "python",
      "nbconvert_exporter": "python",
      "pygments_lexer": "ipython3",
      "version": "3.13.2"
    },
    "colab": {
      "provenance": [],
      "include_colab_link": true
    }
  },
  "nbformat": 4,
  "nbformat_minor": 5
}